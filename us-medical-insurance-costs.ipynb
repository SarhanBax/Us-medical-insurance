{
 "cells": [
  {
   "cell_type": "markdown",
   "metadata": {},
   "source": [
    "# U.S. Medical Insurance Costs"
   ]
  },
  {
   "cell_type": "code",
   "execution_count": 319,
   "metadata": {},
   "outputs": [
    {
     "name": "stdout",
     "output_type": "stream",
     "text": [
      "Average age of the patients is 39.20702541106129\n",
      "Max people are from southeast\n",
      "Average smoker cost is 32050.23183153285\n",
      "Average non smoker cost is 8434.268297856199\n",
      "Average age of the people with children is 39.78010471204188\n"
     ]
    }
   ],
   "source": [
    "import csv\n",
    "\n",
    "# Using basic python functions\n",
    "with open(\"insurance.csv\") as file_obj:\n",
    "#     print(file_obj.read())\n",
    "    data_dic=csv.DictReader(file_obj)\n",
    "    age=[]\n",
    "    locations=[]\n",
    "    smoker={\"yes\":[],\"no\":[]}\n",
    "    child_age=[]\n",
    "    for i in data_dic:\n",
    "        age.append(int(i[\"age\"]))\n",
    "        locations.append(i[\"region\"])\n",
    "        if i[\"smoker\"]==\"yes\":\n",
    "            smoker[\"yes\"].append(float(i[\"charges\"]))\n",
    "        else:\n",
    "            smoker[\"no\"].append(float(i[\"charges\"]))\n",
    "        if int(i[\"children\"])>0:\n",
    "            child_age.append(int(i[\"age\"]))\n",
    "    average_age_l=avg_age_loops(age)\n",
    "    max_locations=max_location(locations)\n",
    "    print(\"Average age of the patients is \"+str(average_age_l)) \n",
    "    print(\"Max people are from \"+max_locations)\n",
    "    avg_smoker,avg_non_smoker=avg_smokers(smoker)\n",
    "    print(\"Average smoker cost is \"+str(avg_smoker))\n",
    "    print(\"Average non smoker cost is \"+str(avg_non_smoker))\n",
    "    print(\"Average age of the people with children is \"+str(avg_age_with_child(child_age)))\n",
    "    \n",
    "        "
   ]
  },
  {
   "cell_type": "code",
   "execution_count": null,
   "metadata": {},
   "outputs": [],
   "source": []
  },
  {
   "cell_type": "code",
   "execution_count": 279,
   "metadata": {},
   "outputs": [],
   "source": [
    "# Average age of patients using loops\n",
    "def avg_age_loops(ages):\n",
    "#     sum(ages)/len(ages)\n",
    "    sum=0\n",
    "    for i in ages:\n",
    "        sum+=i\n",
    "    return sum/len(ages)\n",
    "\n",
    "\n",
    "def max_location(region):\n",
    "    location={}\n",
    "    for i in region:\n",
    "        if i in location:\n",
    "            location[i]+=1\n",
    "        else:\n",
    "            location[i]=0\n",
    "    return max(location,key=location.get)  \n",
    "def avg_smokers(smoker):\n",
    "    non_smoker=sum(smoker[\"no\"])/len(smoker[\"no\"])\n",
    "    smoking=sum(smoker[\"yes\"])/len(smoker[\"yes\"])\n",
    "    return smoking,non_smoker\n",
    "def avg_age_with_child(age):\n",
    "    return sum(age)/len(age)\n",
    "    \n",
    "    \n",
    "\n",
    "        \n",
    "        \n",
    "    \n"
   ]
  },
  {
   "cell_type": "code",
   "execution_count": 326,
   "metadata": {},
   "outputs": [
    {
     "name": "stdout",
     "output_type": "stream",
     "text": [
      "      age     sex     bmi  children smoker     region      charges\n",
      "0      19  female  27.900         0    yes  southwest  16884.92400\n",
      "1      18    male  33.770         1     no  southeast   1725.55230\n",
      "2      28    male  33.000         3     no  southeast   4449.46200\n",
      "3      33    male  22.705         0     no  northwest  21984.47061\n",
      "4      32    male  28.880         0     no  northwest   3866.85520\n",
      "...   ...     ...     ...       ...    ...        ...          ...\n",
      "1333   50    male  30.970         3     no  northwest  10600.54830\n",
      "1334   18  female  31.920         0     no  northeast   2205.98080\n",
      "1335   18  female  36.850         0     no  southeast   1629.83350\n",
      "1336   21  female  25.800         0     no  southwest   2007.94500\n",
      "1337   61  female  29.070         0    yes  northwest  29141.36030\n",
      "\n",
      "[1338 rows x 7 columns]\n",
      "39.20702541106129\n",
      "max people from region\n",
      "northeast    324\n",
      "northwest    325\n",
      "southeast    364\n",
      "southwest    325\n",
      "Name: region, dtype: int64\n",
      "avg smoker charges 32050.23\n",
      "The average age of person who is having children is 39.78\n"
     ]
    }
   ],
   "source": [
    "# Using pandas\n",
    "import pandas as pd\n",
    "df=pd.read_csv(\"insurance.csv\")\n",
    "print(ds)\n",
    "# Average age of the patience \n",
    "avg=df.age.mean()\n",
    "print(avg)\n",
    "print(\"max people from \"+str(df.groupby(\"region\").region.count()))\n",
    "avg_smoker_by_group=df.groupby(\"smoker\").charges.mean()\n",
    "print(\"avg smoker charges \"+str(round(avg_smoker_by_group[\"yes\"],2)))\n",
    "avg_age_with_children=df.loc[df.children>0,\"age\"].mean()\n",
    "print(\"The average age of person who is having children is \"+str(round(avg_age_with_children,2)))\n"
   ]
  }
 ],
 "metadata": {
  "kernelspec": {
   "display_name": "Python 3 (ipykernel)",
   "language": "python",
   "name": "python3"
  },
  "language_info": {
   "codemirror_mode": {
    "name": "ipython",
    "version": 3
   },
   "file_extension": ".py",
   "mimetype": "text/x-python",
   "name": "python",
   "nbconvert_exporter": "python",
   "pygments_lexer": "ipython3",
   "version": "3.11.3"
  }
 },
 "nbformat": 4,
 "nbformat_minor": 4
}
